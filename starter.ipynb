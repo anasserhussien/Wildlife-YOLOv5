{
 "cells": [
  {
   "cell_type": "markdown",
   "id": "d0268b03-6826-4cd6-8047-ca61d917f86f",
   "metadata": {},
   "source": [
    "## Download csv files from the openimages dataset"
   ]
  },
  {
   "cell_type": "code",
   "execution_count": 7,
   "id": "388b03c8-2a79-4f80-b2b9-9b90b1c8ecdf",
   "metadata": {},
   "outputs": [
    {
     "name": "stdout",
     "output_type": "stream",
     "text": [
      "File downloaded to oidv6-train-annotations-bbox.csv\n",
      "File downloaded to validation-annotations-bbox.csv\n",
      "File downloaded to test-annotations-bbox.csv\n"
     ]
    }
   ],
   "source": [
    "import urllib.request\n",
    "\n",
    "urls = [\n",
    "    \"https://storage.googleapis.com/openimages/v6/oidv6-train-annotations-bbox.csv\",\n",
    "    \"https://storage.googleapis.com/openimages/v5/validation-annotations-bbox.csv\",\n",
    "    \"https://storage.googleapis.com/openimages/v5/test-annotations-bbox.csv\"\n",
    "]\n",
    "for i in range(len(urls)):\n",
    "    \n",
    "    destination_path = urls[i].split('/')[-1]\n",
    "    \n",
    "    # Download the file\n",
    "    urllib.request.urlretrieve(urls[i], destination_path)\n",
    "    \n",
    "    print(f\"File downloaded to {destination_path}\")\n"
   ]
  },
  {
   "cell_type": "code",
   "execution_count": null,
   "id": "f523fe91-eaa4-4074-9e4d-6986b4114954",
   "metadata": {},
   "outputs": [],
   "source": []
  },
  {
   "cell_type": "markdown",
   "id": "8f1f2161-ea3f-461c-9de9-132a090d141f",
   "metadata": {},
   "source": [
    "## Retrieve a complete list of all images which belong to the desired object"
   ]
  },
  {
   "cell_type": "code",
   "execution_count": 1,
   "id": "8e53a6a8-7728-4f82-9370-45190fd93cb7",
   "metadata": {},
   "outputs": [
    {
     "name": "stdout",
     "output_type": "stream",
     "text": [
      "./oidv6-train-annotations-bbox.csv\n",
      "./validation-annotations-bbox.csv\n",
      "./test-annotations-bbox.csv\n"
     ]
    }
   ],
   "source": [
    "!python prepare_data/create_image_list_file.py"
   ]
  },
  {
   "cell_type": "code",
   "execution_count": null,
   "id": "68c57275-9c4d-47ea-a35e-9d9524929a49",
   "metadata": {},
   "outputs": [],
   "source": []
  },
  {
   "cell_type": "markdown",
   "id": "54206690-1b3e-4ccb-b12a-3b8fb3fefe9c",
   "metadata": {},
   "source": [
    "## Dwonload the images the belong to the created list"
   ]
  },
  {
   "cell_type": "code",
   "execution_count": 2,
   "id": "17738566-2058-41ea-a646-2e62ec5decab",
   "metadata": {},
   "outputs": [
    {
     "name": "stdout",
     "output_type": "stream",
     "text": [
      "Downloading images: 100%|█████████████████| 12135/12135 [15:07<00:00, 13.37it/s]\n"
     ]
    }
   ],
   "source": [
    "!python downloader.py image_list_file --download_folder=datasets/raw_images_multi_objects"
   ]
  },
  {
   "cell_type": "code",
   "execution_count": null,
   "id": "5f720232-77e7-4991-bbd1-b62f4788a5be",
   "metadata": {},
   "outputs": [],
   "source": []
  },
  {
   "cell_type": "markdown",
   "id": "88b15370-d472-4f34-afd0-723af80302a3",
   "metadata": {},
   "source": [
    "## prepare the dataset in YOLO format"
   ]
  },
  {
   "cell_type": "code",
   "execution_count": 7,
   "id": "e89a60bc-2259-4a41-9b76-71c15c7344fd",
   "metadata": {},
   "outputs": [
    {
     "name": "stdout",
     "output_type": "stream",
     "text": [
      "./oidv6-train-annotations-bbox.csv\n",
      "./validation-annotations-bbox.csv\n",
      "./test-annotations-bbox.csv\n"
     ]
    }
   ],
   "source": [
    "!python prepare_data/create_dataset_yolo_format.py"
   ]
  },
  {
   "cell_type": "code",
   "execution_count": null,
   "id": "793817aa-6b66-49f8-ba49-3c56f028db7c",
   "metadata": {},
   "outputs": [],
   "source": []
  },
  {
   "cell_type": "code",
   "execution_count": null,
   "id": "6b2513a8-8de3-4a2a-8aea-73d0e77aee19",
   "metadata": {},
   "outputs": [],
   "source": []
  },
  {
   "cell_type": "code",
   "execution_count": null,
   "id": "40da548c-2bb5-457c-a551-5ab3d9baa8ce",
   "metadata": {},
   "outputs": [],
   "source": []
  },
  {
   "cell_type": "code",
   "execution_count": 26,
   "id": "405c98ba-1e6c-4863-aad5-7bb8d9f88f1e",
   "metadata": {
    "scrolled": true
   },
   "outputs": [],
   "source": [
    "# !pip install argparse boto3 botocore tqdm\n",
    "# !pip install torch==1.13.1+cu117 torchvision==0.14.1+cu117  --extra-index-url https://download.pytorch.org/whl/cu117 \n"
   ]
  },
  {
   "cell_type": "code",
   "execution_count": 13,
   "id": "9ff3ddae-eb99-4b07-80ac-22a2dcd02020",
   "metadata": {},
   "outputs": [],
   "source": []
  },
  {
   "cell_type": "code",
   "execution_count": 31,
   "id": "5c85a55a-c28e-4717-93d1-d85508e9460f",
   "metadata": {
    "scrolled": true
   },
   "outputs": [
    {
     "name": "stdout",
     "output_type": "stream",
     "text": [
      "Collecting tensorboard\n",
      "  Using cached tensorboard-2.14.0-py3-none-any.whl (5.5 MB)\n",
      "Requirement already satisfied: google-auth<3,>=1.6.3 in /storage/user_data/ahmed.abdelgawad/venvs/yolo_obj_project_1/lib/python3.8/site-packages (from tensorboard) (2.27.0)\n",
      "Requirement already satisfied: wheel>=0.26 in /storage/user_data/ahmed.abdelgawad/venvs/yolo_obj_project_1/lib/python3.8/site-packages (from tensorboard) (0.42.0)\n",
      "Requirement already satisfied: protobuf>=3.19.6 in /storage/user_data/ahmed.abdelgawad/venvs/yolo_obj_project_1/lib/python3.8/site-packages (from tensorboard) (4.25.2)\n",
      "Requirement already satisfied: setuptools>=41.0.0 in /storage/user_data/ahmed.abdelgawad/venvs/yolo_obj_project_1/lib/python3.8/site-packages (from tensorboard) (69.0.3)\n",
      "Requirement already satisfied: tensorboard-data-server<0.8.0,>=0.7.0 in /storage/user_data/ahmed.abdelgawad/venvs/yolo_obj_project_1/lib/python3.8/site-packages (from tensorboard) (0.7.2)\n",
      "Requirement already satisfied: grpcio>=1.48.2 in /storage/user_data/ahmed.abdelgawad/venvs/yolo_obj_project_1/lib/python3.8/site-packages (from tensorboard) (1.60.1)\n",
      "Requirement already satisfied: numpy>=1.12.0 in /storage/user_data/ahmed.abdelgawad/venvs/yolo_obj_project_1/lib/python3.8/site-packages (from tensorboard) (1.24.4)\n",
      "Requirement already satisfied: requests<3,>=2.21.0 in /storage/user_data/ahmed.abdelgawad/venvs/yolo_obj_project_1/lib/python3.8/site-packages (from tensorboard) (2.31.0)\n",
      "Requirement already satisfied: absl-py>=0.4 in /storage/user_data/ahmed.abdelgawad/venvs/yolo_obj_project_1/lib/python3.8/site-packages (from tensorboard) (2.1.0)\n",
      "Requirement already satisfied: markdown>=2.6.8 in /storage/user_data/ahmed.abdelgawad/venvs/yolo_obj_project_1/lib/python3.8/site-packages (from tensorboard) (3.5.2)\n",
      "Requirement already satisfied: google-auth-oauthlib<1.1,>=0.5 in /storage/user_data/ahmed.abdelgawad/venvs/yolo_obj_project_1/lib/python3.8/site-packages (from tensorboard) (1.0.0)\n",
      "Requirement already satisfied: werkzeug>=1.0.1 in /storage/user_data/ahmed.abdelgawad/venvs/yolo_obj_project_1/lib/python3.8/site-packages (from tensorboard) (3.0.1)\n",
      "Requirement already satisfied: rsa<5,>=3.1.4 in /storage/user_data/ahmed.abdelgawad/venvs/yolo_obj_project_1/lib/python3.8/site-packages (from google-auth<3,>=1.6.3->tensorboard) (4.9)\n",
      "Requirement already satisfied: pyasn1-modules>=0.2.1 in /storage/user_data/ahmed.abdelgawad/venvs/yolo_obj_project_1/lib/python3.8/site-packages (from google-auth<3,>=1.6.3->tensorboard) (0.3.0)\n",
      "Requirement already satisfied: cachetools<6.0,>=2.0.0 in /storage/user_data/ahmed.abdelgawad/venvs/yolo_obj_project_1/lib/python3.8/site-packages (from google-auth<3,>=1.6.3->tensorboard) (5.3.2)\n",
      "Requirement already satisfied: urllib3<3,>=1.21.1 in /storage/user_data/ahmed.abdelgawad/venvs/yolo_obj_project_1/lib/python3.8/site-packages (from requests<3,>=2.21.0->tensorboard) (1.26.18)\n",
      "Requirement already satisfied: certifi>=2017.4.17 in /storage/user_data/ahmed.abdelgawad/venvs/yolo_obj_project_1/lib/python3.8/site-packages (from requests<3,>=2.21.0->tensorboard) (2023.7.22)\n",
      "Requirement already satisfied: idna<4,>=2.5 in /storage/user_data/ahmed.abdelgawad/venvs/yolo_obj_project_1/lib/python3.8/site-packages (from requests<3,>=2.21.0->tensorboard) (2.10)\n",
      "Requirement already satisfied: charset-normalizer<4,>=2 in /storage/user_data/ahmed.abdelgawad/venvs/yolo_obj_project_1/lib/python3.8/site-packages (from requests<3,>=2.21.0->tensorboard) (3.3.2)\n",
      "Requirement already satisfied: importlib-metadata>=4.4; python_version < \"3.10\" in /storage/user_data/ahmed.abdelgawad/venvs/yolo_obj_project_1/lib/python3.8/site-packages (from markdown>=2.6.8->tensorboard) (7.0.1)\n",
      "Requirement already satisfied: requests-oauthlib>=0.7.0 in /storage/user_data/ahmed.abdelgawad/venvs/yolo_obj_project_1/lib/python3.8/site-packages (from google-auth-oauthlib<1.1,>=0.5->tensorboard) (1.3.1)\n",
      "Requirement already satisfied: MarkupSafe>=2.1.1 in /storage/user_data/ahmed.abdelgawad/venvs/yolo_obj_project_1/lib/python3.8/site-packages (from werkzeug>=1.0.1->tensorboard) (2.1.4)\n",
      "Requirement already satisfied: pyasn1>=0.1.3 in /storage/user_data/ahmed.abdelgawad/venvs/yolo_obj_project_1/lib/python3.8/site-packages (from rsa<5,>=3.1.4->google-auth<3,>=1.6.3->tensorboard) (0.5.1)\n",
      "Requirement already satisfied: zipp>=0.5 in /storage/user_data/ahmed.abdelgawad/venvs/yolo_obj_project_1/lib/python3.8/site-packages (from importlib-metadata>=4.4; python_version < \"3.10\"->markdown>=2.6.8->tensorboard) (3.17.0)\n",
      "Requirement already satisfied: oauthlib>=3.0.0 in /storage/user_data/ahmed.abdelgawad/venvs/yolo_obj_project_1/lib/python3.8/site-packages (from requests-oauthlib>=0.7.0->google-auth-oauthlib<1.1,>=0.5->tensorboard) (3.2.2)\n",
      "Installing collected packages: tensorboard\n",
      "Successfully installed tensorboard-2.14.0\n"
     ]
    }
   ],
   "source": [
    "!pip install tensorboard"
   ]
  },
  {
   "cell_type": "code",
   "execution_count": null,
   "id": "6a4667fa-5484-4d42-a125-0975c2c5f93c",
   "metadata": {},
   "outputs": [],
   "source": []
  },
  {
   "cell_type": "code",
   "execution_count": null,
   "id": "262abd83-ddb6-4b49-a8b2-26c38233b3fa",
   "metadata": {},
   "outputs": [],
   "source": []
  }
 ],
 "metadata": {
  "kernelspec": {
   "display_name": "Python 3 (ipykernel)",
   "language": "python",
   "name": "python3"
  },
  "language_info": {
   "codemirror_mode": {
    "name": "ipython",
    "version": 3
   },
   "file_extension": ".py",
   "mimetype": "text/x-python",
   "name": "python",
   "nbconvert_exporter": "python",
   "pygments_lexer": "ipython3",
   "version": "3.8.10"
  }
 },
 "nbformat": 4,
 "nbformat_minor": 5
}
