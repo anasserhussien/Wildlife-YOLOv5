{
 "cells": [
  {
   "cell_type": "markdown",
   "id": "d0268b03-6826-4cd6-8047-ca61d917f86f",
   "metadata": {},
   "source": [
    "## Download csv files from the openimages dataset"
   ]
  },
  {
   "cell_type": "code",
   "execution_count": 1,
   "id": "388b03c8-2a79-4f80-b2b9-9b90b1c8ecdf",
   "metadata": {},
   "outputs": [
    {
     "name": "stdout",
     "output_type": "stream",
     "text": [
      "File downloaded to oidv6-train-annotations-bbox.csv\n",
      "File downloaded to validation-annotations-bbox.csv\n",
      "File downloaded to test-annotations-bbox.csv\n"
     ]
    }
   ],
   "source": [
    "import urllib.request\n",
    "\n",
    "urls = [\n",
    "    \"https://storage.googleapis.com/openimages/v6/oidv6-train-annotations-bbox.csv\",\n",
    "    \"https://storage.googleapis.com/openimages/v5/validation-annotations-bbox.csv\",\n",
    "    \"https://storage.googleapis.com/openimages/v5/test-annotations-bbox.csv\"\n",
    "]\n",
    "for i in range(len(urls)):\n",
    "    \n",
    "    destination_path = urls[i].split('/')[-1]\n",
    "    \n",
    "    # Download the file\n",
    "    urllib.request.urlretrieve(urls[i], destination_path)\n",
    "    \n",
    "    print(f\"File downloaded to {destination_path}\")\n"
   ]
  },
  {
   "cell_type": "code",
   "execution_count": null,
   "id": "f523fe91-eaa4-4074-9e4d-6986b4114954",
   "metadata": {},
   "outputs": [],
   "source": []
  },
  {
   "cell_type": "markdown",
   "id": "8f1f2161-ea3f-461c-9de9-132a090d141f",
   "metadata": {},
   "source": [
    "## Retrieve a complete list of all images which belong to the desired object"
   ]
  },
  {
   "cell_type": "code",
   "execution_count": null,
   "id": "8e53a6a8-7728-4f82-9370-45190fd93cb7",
   "metadata": {},
   "outputs": [
    {
     "name": "stdout",
     "output_type": "stream",
     "text": [
      "./oidv6-train-annotations-bbox.csv\n"
     ]
    }
   ],
   "source": [
    "!python prepare_data/create_image_list_file.py"
   ]
  },
  {
   "cell_type": "code",
   "execution_count": null,
   "id": "68c57275-9c4d-47ea-a35e-9d9524929a49",
   "metadata": {},
   "outputs": [],
   "source": []
  },
  {
   "cell_type": "markdown",
   "id": "54206690-1b3e-4ccb-b12a-3b8fb3fefe9c",
   "metadata": {},
   "source": [
    "## Dwonload the images that belong to the created list"
   ]
  },
  {
   "cell_type": "code",
   "execution_count": 2,
   "id": "17738566-2058-41ea-a646-2e62ec5decab",
   "metadata": {},
   "outputs": [
    {
     "name": "stdout",
     "output_type": "stream",
     "text": [
      "Downloading images: 100%|█████████████████| 12135/12135 [15:07<00:00, 13.37it/s]\n"
     ]
    }
   ],
   "source": [
    "!python downloader.py image_list_file --download_folder=datasets/raw_images_multi_objects"
   ]
  },
  {
   "cell_type": "code",
   "execution_count": null,
   "id": "5f720232-77e7-4991-bbd1-b62f4788a5be",
   "metadata": {},
   "outputs": [],
   "source": []
  },
  {
   "cell_type": "markdown",
   "id": "88b15370-d472-4f34-afd0-723af80302a3",
   "metadata": {},
   "source": [
    "## prepare the dataset in YOLO format"
   ]
  },
  {
   "cell_type": "code",
   "execution_count": 7,
   "id": "e89a60bc-2259-4a41-9b76-71c15c7344fd",
   "metadata": {},
   "outputs": [
    {
     "name": "stdout",
     "output_type": "stream",
     "text": [
      "./oidv6-train-annotations-bbox.csv\n",
      "./validation-annotations-bbox.csv\n",
      "./test-annotations-bbox.csv\n"
     ]
    }
   ],
   "source": [
    "!python prepare_data/create_dataset_yolo_format.py"
   ]
  },
  {
   "cell_type": "code",
   "execution_count": null,
   "id": "793817aa-6b66-49f8-ba49-3c56f028db7c",
   "metadata": {},
   "outputs": [],
   "source": []
  },
  {
   "cell_type": "code",
   "execution_count": null,
   "id": "6a4667fa-5484-4d42-a125-0975c2c5f93c",
   "metadata": {},
   "outputs": [],
   "source": []
  },
  {
   "cell_type": "code",
   "execution_count": null,
   "id": "262abd83-ddb6-4b49-a8b2-26c38233b3fa",
   "metadata": {},
   "outputs": [],
   "source": []
  }
 ],
 "metadata": {
  "kernelspec": {
   "display_name": "Python 3 (ipykernel)",
   "language": "python",
   "name": "python3"
  },
  "language_info": {
   "codemirror_mode": {
    "name": "ipython",
    "version": 3
   },
   "file_extension": ".py",
   "mimetype": "text/x-python",
   "name": "python",
   "nbconvert_exporter": "python",
   "pygments_lexer": "ipython3",
   "version": "3.8.10"
  }
 },
 "nbformat": 4,
 "nbformat_minor": 5
}
